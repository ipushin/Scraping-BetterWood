{
 "cells": [
  {
   "cell_type": "code",
   "execution_count": 1,
   "metadata": {},
   "outputs": [],
   "source": [
    "import pandas as pd\n",
    "import numpy as np\n",
    "import warnings\n",
    "warnings.filterwarnings('ignore')\n",
    "import re\n",
    "pd.set_option('display.max_columns', None)\n",
    "pd.set_option('display.max_rows', None)\n",
    "from bs4 import BeautifulSoup\n",
    "import re\n",
    "from random import randint\n",
    "from time import sleep\n",
    "from selenium import webdriver\n",
    "from selenium.webdriver.common.keys import Keys\n",
    "import pickle\n",
    "import requests\n",
    "import math\n",
    "from selenium.webdriver.support.ui import WebDriverWait\n",
    "from selenium.webdriver.common.by import By\n",
    "from selenium.webdriver.support import expected_conditions as EC\n",
    "from selenium.webdriver.common.action_chains import ActionChains\n",
    "import cfscrape\n",
    "from lxml import etree"
   ]
  },
  {
   "cell_type": "markdown",
   "metadata": {},
   "source": [
    "# Processing data"
   ]
  },
  {
   "cell_type": "code",
   "execution_count": 2,
   "metadata": {},
   "outputs": [],
   "source": [
    "with open('SCS-Wood-Raw-Data.pkl', 'rb') as f:\n",
    "    products = pickle.load(f)"
   ]
  },
  {
   "cell_type": "markdown",
   "metadata": {},
   "source": [
    "#### Titles"
   ]
  },
  {
   "cell_type": "code",
   "execution_count": 3,
   "metadata": {},
   "outputs": [],
   "source": [
    "with open('SCS-links_titles.pkl', 'rb') as f:\n",
    "    titles_dict = pickle.load(f)"
   ]
  },
  {
   "cell_type": "code",
   "execution_count": 17,
   "metadata": {},
   "outputs": [],
   "source": [
    "titles_df = pd.DataFrame([titles_dict]).T.reset_index().rename(columns={'index':'URL', 0:'Title'})"
   ]
  },
  {
   "cell_type": "code",
   "execution_count": 18,
   "metadata": {},
   "outputs": [],
   "source": [
    "products = pd.merge(products,titles_df, on='URL', how='left')"
   ]
  },
  {
   "cell_type": "markdown",
   "metadata": {},
   "source": [
    "#### Deduplication"
   ]
  },
  {
   "cell_type": "code",
   "execution_count": 20,
   "metadata": {},
   "outputs": [
    {
     "data": {
      "text/plain": [
       "(10417, 51)"
      ]
     },
     "execution_count": 20,
     "metadata": {},
     "output_type": "execute_result"
    }
   ],
   "source": [
    "products[~products.duplicated(subset=['Price','URL','Artikelnummer'])].shape\n",
    "#'Stärke (in mm)-T','Breite (in mm)-T','Länge (in mm)-T',                         "
   ]
  },
  {
   "cell_type": "code",
   "execution_count": 21,
   "metadata": {},
   "outputs": [
    {
     "data": {
      "text/plain": [
       "(10418, 51)"
      ]
     },
     "execution_count": 21,
     "metadata": {},
     "output_type": "execute_result"
    }
   ],
   "source": [
    "products = products[~products.duplicated(keep='last')]\n",
    "products.shape"
   ]
  },
  {
   "cell_type": "markdown",
   "metadata": {},
   "source": [
    "#### Missed data"
   ]
  },
  {
   "cell_type": "code",
   "execution_count": 22,
   "metadata": {},
   "outputs": [],
   "source": [
    "for col in products.columns:\n",
    "    products[col] = products[col].apply(lambda x: np.nan if x=='' or x ==' '  else x)"
   ]
  },
  {
   "cell_type": "markdown",
   "metadata": {},
   "source": [
    "#### Price/Delivery"
   ]
  },
  {
   "cell_type": "code",
   "execution_count": 101,
   "metadata": {},
   "outputs": [
    {
     "data": {
      "text/plain": [
       "(10418, 51)"
      ]
     },
     "execution_count": 101,
     "metadata": {},
     "output_type": "execute_result"
    }
   ],
   "source": [
    "test = products.copy()\n",
    "test.shape"
   ]
  },
  {
   "cell_type": "code",
   "execution_count": 102,
   "metadata": {},
   "outputs": [],
   "source": [
    "test['Price'] = test['Price'].str.replace(r' €|\\.','')\n",
    "test['Price'] = test['Price'].str.replace(r'\\,','.').astype(float)"
   ]
  },
  {
   "cell_type": "markdown",
   "metadata": {},
   "source": [
    "#### Drop missed columns"
   ]
  },
  {
   "cell_type": "code",
   "execution_count": 103,
   "metadata": {},
   "outputs": [
    {
     "data": {
      "text/plain": [
       "24"
      ]
     },
     "execution_count": 103,
     "metadata": {},
     "output_type": "execute_result"
    }
   ],
   "source": [
    "missed_cols = pd.DataFrame((test.isna().sum()/test.shape[0]*100), columns=['Missed'])\n",
    "cols_del = missed_cols[missed_cols['Missed']>99].index.to_list()\n",
    "len(cols_del)"
   ]
  },
  {
   "cell_type": "code",
   "execution_count": 104,
   "metadata": {},
   "outputs": [
    {
     "data": {
      "text/plain": [
       "(10418, 27)"
      ]
     },
     "execution_count": 104,
     "metadata": {},
     "output_type": "execute_result"
    }
   ],
   "source": [
    "test = test.drop(columns=cols_del)\n",
    "test.shape"
   ]
  },
  {
   "cell_type": "markdown",
   "metadata": {},
   "source": [
    "### Dimentions"
   ]
  },
  {
   "cell_type": "code",
   "execution_count": 105,
   "metadata": {},
   "outputs": [],
   "source": [
    "for col in test.columns[:3]:\n",
    "    test[col] = test[col].astype(str).str.replace(r' +',' ').apply(lambda x: np.nan if x=='' or x ==' '  else x)"
   ]
  },
  {
   "cell_type": "code",
   "execution_count": 106,
   "metadata": {},
   "outputs": [],
   "source": [
    "test['Stärke (in mm)-T'] = test['Stärke (in mm)-T'].fillna(test['Höhe (in mm)-T']).fillna(test['Stärke (in mm)'])"
   ]
  },
  {
   "cell_type": "code",
   "execution_count": 107,
   "metadata": {},
   "outputs": [
    {
     "data": {
      "text/plain": [
       "Stärke (in mm)-T        0.000000\n",
       "Breite (in mm)-T        0.201574\n",
       "Länge (in mm)-T         0.000000\n",
       "Price                   0.000000\n",
       "Delivery                0.000000\n",
       "Description             0.000000\n",
       "Artikelnummer           0.000000\n",
       "Holzart                 0.662315\n",
       "Holzfeuchte            84.526781\n",
       "Oberfläche             84.018046\n",
       "Profil                 86.484930\n",
       "Qualität               84.584373\n",
       "Gewicht ca. (kg/m3)    83.000576\n",
       "Länge (in mm)          79.180265\n",
       "Breite (in mm)          0.000000\n",
       "Stärke (in mm)         83.250144\n",
       "Lieferzeit              1.986946\n",
       "URL                     0.000000\n",
       "Est Quantity            0.000000\n",
       "Actual Quantity         0.000000\n",
       "Kanten                 98.819351\n",
       "Höhe (in mm)-T         16.749856\n",
       "Höhe (in mm)           16.749856\n",
       "Quantity Delta         79.180265\n",
       "URL count              79.180265\n",
       "URL count Delta        79.180265\n",
       "Title                   0.000000\n",
       "dtype: float64"
      ]
     },
     "execution_count": 107,
     "metadata": {},
     "output_type": "execute_result"
    }
   ],
   "source": [
    "test.isna().sum()/test.shape[0]*100"
   ]
  },
  {
   "cell_type": "markdown",
   "metadata": {},
   "source": [
    "# Combine all columns to mine text form"
   ]
  },
  {
   "cell_type": "code",
   "execution_count": 108,
   "metadata": {},
   "outputs": [],
   "source": [
    "test['Combined'] = ''\n",
    "for col in ['Title', 'Description', 'Holzart', 'Holzfeuchte','Oberfläche', 'Profil', 'Qualität',  'Kanten', ]:\n",
    "    test['Combined'] = test['Combined'] + '; ' + test[col].astype(str)"
   ]
  },
  {
   "cell_type": "code",
   "execution_count": 109,
   "metadata": {},
   "outputs": [],
   "source": [
    "test['Combined'] = test['Combined'].str.replace(r'\\; nan','').str.replace(r'^; ','')"
   ]
  },
  {
   "cell_type": "markdown",
   "metadata": {},
   "source": [
    "###  Quality"
   ]
  },
  {
   "cell_type": "code",
   "execution_count": 110,
   "metadata": {},
   "outputs": [],
   "source": [
    "quality = ['A-Sortierung', 'B-Sortierung', 'C-Sortierung', 'A/B', 'B/C','Kl. A', '1.Wahl Sortierung', 'Altholz']"
   ]
  },
  {
   "cell_type": "code",
   "execution_count": 111,
   "metadata": {},
   "outputs": [
    {
     "data": {
      "text/plain": [
       "A-Sortierung, B-Sortierung    1272\n",
       "B/C                             21\n",
       "A-Sortierung                    14\n",
       "A/B                              3\n",
       "Name: Quality, dtype: int64"
      ]
     },
     "execution_count": 111,
     "metadata": {},
     "output_type": "execute_result"
    }
   ],
   "source": [
    "test['Quality'] = ''\n",
    "for i in test.index:\n",
    "    test['Quality'].loc[i] = []\n",
    "    for qual in quality:\n",
    "        pat = r' {} |^{} | {}$| {}\\;'.format(qual.lower(), qual.lower(), qual.lower(), qual.lower())\n",
    "        if len(re.findall(pat, test['Combined'].loc[i].lower()))>0 and qual.lower() not in ', '.join(test['Quality'].loc[i]):\n",
    "            test['Quality'].loc[i].append(qual)\n",
    "            \n",
    "    try:\n",
    "        test['Quality'].loc[i] = ', '.join(test['Quality'].loc[i])\n",
    "    except:\n",
    "        pass\n",
    "test['Quality'] =  test['Quality'].apply(lambda x: np.nan if x==' ' or x=='' else x )\n",
    "test['Quality'].value_counts()"
   ]
  },
  {
   "cell_type": "markdown",
   "metadata": {},
   "source": [
    "### Sorting Class"
   ]
  },
  {
   "cell_type": "code",
   "execution_count": 112,
   "metadata": {},
   "outputs": [],
   "source": [
    "sort_classes = ['S7', 'S10', 'S13', 'C16M', 'C24M', 'C30M', 'D30', 'D35', 'D40',\n",
    "               'D60', 'D70', 'geringe tragfähigkeit', 'mittlere tragfähigkeit',\n",
    "               'hohe tragfähigkeit']"
   ]
  },
  {
   "cell_type": "code",
   "execution_count": 113,
   "metadata": {},
   "outputs": [
    {
     "data": {
      "text/plain": [
       "hohe tragfähigkeit    4\n",
       "Name: Sorting Class, dtype: int64"
      ]
     },
     "execution_count": 113,
     "metadata": {},
     "output_type": "execute_result"
    }
   ],
   "source": [
    "test['Sorting Class'] = ''\n",
    "for i in test.index:\n",
    "    test['Sorting Class'].loc[i] = []\n",
    "    for sort_class in sort_classes:\n",
    "        pat = r' {} |^{} | {}$| {}\\;'.format(sort_class.lower(), sort_class.lower(), sort_class.lower(), sort_class.lower())\n",
    "        if len(re.findall(pat, test['Combined'].loc[i].lower()))>0 and sort_class.lower() not in ', '.join(test['Sorting Class'].loc[i]):\n",
    "            test['Sorting Class'].loc[i].append(sort_class)\n",
    "       \n",
    "    try:\n",
    "        test['Sorting Class'].loc[i] = ', '.join(test['Sorting Class'].loc[i])\n",
    "    except:\n",
    "        pass\n",
    "test['Sorting Class'] =  test['Sorting Class'].apply(lambda x: np.nan if x==' ' or x=='' else x )\n",
    "test['Sorting Class'].value_counts()"
   ]
  },
  {
   "cell_type": "markdown",
   "metadata": {},
   "source": [
    "## Main parameters"
   ]
  },
  {
   "cell_type": "markdown",
   "metadata": {},
   "source": [
    "### Wood Types"
   ]
  },
  {
   "cell_type": "code",
   "execution_count": 114,
   "metadata": {},
   "outputs": [],
   "source": [
    "woods = ['Ahorn', 'Tanne', 'Sperrholz', 'Nussbaum', 'Erle',\n",
    "        'Bongossi (Azobé)', 'Birke', 'Buche', 'Douglasie',\n",
    "        'Edelkastanie', 'Eiche', 'Elsbeere', 'Erle', 'Esche', 'Fichte',\n",
    "        'Kiefer', 'Kirschbaum', 'Lärche', 'Linde', 'Mahagoni', 'Teak',\n",
    "        'Pappel', 'Robinie', 'Tanne', 'Ulme', 'Walnuss', 'Weide', 'Birne',\n",
    "        'Fichte/Tanne', 'Fichte/Kiefer']"
   ]
  },
  {
   "cell_type": "code",
   "execution_count": 115,
   "metadata": {},
   "outputs": [],
   "source": [
    "test['Meta Wood'] = ''\n",
    "for i in test.index:\n",
    "    for wood in woods:\n",
    "        pat = r' {} |^{} | {}$'.format(wood.lower(), wood.lower(), wood.lower())\n",
    "        if len(re.findall(pat, test['Combined'].loc[i].lower()))>0:\n",
    "            test['Meta Wood'].loc[i] = wood"
   ]
  },
  {
   "cell_type": "code",
   "execution_count": 116,
   "metadata": {},
   "outputs": [],
   "source": [
    "test['Meta Wood'] = test['Meta Wood'].apply(lambda x: np.nan if x==' ' or x=='' else x )"
   ]
  },
  {
   "cell_type": "code",
   "execution_count": 117,
   "metadata": {},
   "outputs": [],
   "source": [
    "test['Wood Type'] = test['Holzart'].fillna(test['Meta Wood'])#.fillna(test['Holzart-Dekor-T1']).fillna(test['Meta Wood'])"
   ]
  },
  {
   "cell_type": "markdown",
   "metadata": {},
   "source": [
    "#### Cheking wrong typs and woods"
   ]
  },
  {
   "cell_type": "code",
   "execution_count": 118,
   "metadata": {},
   "outputs": [],
   "source": [
    "wrong_wood = ['Holzwerkstoff (MDF)', 'Glas', 'Aluminium', 'Metall', 'Granit', 'Polymere', 'Granito',\n",
    "              'Kunststoff','Laminiert','Gipskarton, Furniert','PVC','Beschichtet', 'Melaminbeschichtet' ,\n",
    "              'Furniert','PVC-freie Werkstoffmischung',  'Foliert',  'Laminiert', 'Polymere','Polycarbonat',\n",
    "              'Polyvinylchlorid (PVC)','Gipskarton','German Compact Composite (GCC)','Bandstahl','Foliert',\n",
    "              'Faseprofil','Metall, Kunststoff', 'Textil, Kunststoff','Rotbuche','Multiplex',\n",
    "              'Qualitätsspanplatte mit HPL-Beschichtung Profil aus Hart-PVC','Holz-Kunststoff-Verbundwerkstoffe (WPC)'\n",
    "              ,'Beschichtete Flachpressplatte', 'Hart-PVC-Leiste','Lackiert','WPC', \n",
    "              'Weich-PVC','Unbehandelt','Kunststoffbeschichtet','Kunststoffummantelter Hartfaserkern',\n",
    "               'Stahl','Beschichtete Flachpressplatte, Hart-PVC-Leiste','Beidseitig mit HPL beschichtete Spanplatte',\n",
    "              'Polycarbonat', 'German Compact Composite (GCC)', \n",
    "              'Foliert', 'WPC', 'Multiplex', 'Beschichtet', 'Stahl']"
   ]
  },
  {
   "cell_type": "code",
   "execution_count": 119,
   "metadata": {},
   "outputs": [
    {
     "data": {
      "text/plain": [
       "0.0"
      ]
     },
     "execution_count": 119,
     "metadata": {},
     "output_type": "execute_result"
    }
   ],
   "source": [
    "# Percentage of wrong wood types\n",
    "test[(test['Wood Type'].isin(wrong_wood))].shape[0]/test.shape[0]*100"
   ]
  },
  {
   "cell_type": "code",
   "execution_count": 120,
   "metadata": {},
   "outputs": [
    {
     "data": {
      "text/plain": [
       "Series([], Name: Wood Type, dtype: int64)"
      ]
     },
     "execution_count": 120,
     "metadata": {},
     "output_type": "execute_result"
    }
   ],
   "source": [
    "test[(test['Wood Type'].isin(wrong_wood))]['Wood Type'].value_counts()"
   ]
  },
  {
   "cell_type": "code",
   "execution_count": 121,
   "metadata": {},
   "outputs": [
    {
     "data": {
      "text/plain": [
       "(10418, 32)"
      ]
     },
     "execution_count": 121,
     "metadata": {},
     "output_type": "execute_result"
    }
   ],
   "source": [
    "test = test[(~test['Wood Type'].isin(wrong_wood))]\n",
    "test.shape"
   ]
  },
  {
   "cell_type": "code",
   "execution_count": 122,
   "metadata": {},
   "outputs": [],
   "source": [
    "test['Wood Type'] = test['Wood Type'].str.lower()"
   ]
  },
  {
   "cell_type": "markdown",
   "metadata": {},
   "source": [
    "### Surface"
   ]
  },
  {
   "cell_type": "code",
   "execution_count": 123,
   "metadata": {},
   "outputs": [],
   "source": [
    "strong_surfaces = ['geschliffen', 'gehobelt', 'gefast',\n",
    "                   'sägerau', 'geriffelt', 'glatt gehobelt', 'glatte', 'gefräst',\n",
    "                   'gebürstet', 'strukturiert', '1-Seitig gehobelt',\n",
    "                   '2-Seitig gehobelt', '3-Seitig gehobelt', '4-Seitig gehobelt',\n",
    "                   'genutet', 'unbehandelt', 'naturbelassen', \n",
    "                   'deckend', 'lasiert', 'vorgeölt', 'kesseldruckimprägniert (KDI)',\n",
    "                   'hitzebehandelt', 'thermobehandelt', 'wachsen', 'imprägniert',\n",
    "                   'Scharfkantig']\n",
    "\n",
    "weak_surfaces = ['roh', 'keine']"
   ]
  },
  {
   "cell_type": "code",
   "execution_count": 124,
   "metadata": {},
   "outputs": [],
   "source": [
    "test['Combined Surface Treat'] = ''\n",
    "for i in test.index:\n",
    "    test['Combined Surface Treat'].loc[i] = []\n",
    "    for surface in weak_surfaces:\n",
    "        pat = r' {} |^{} | {}$'.format(surface.lower(), surface.lower(), surface.lower())\n",
    "        if len(re.findall(pat, test['Combined'].loc[i].lower()))>0 and surface.lower() not in ', '.join(test['Combined Surface Treat'].loc[i]):\n",
    "            test['Combined Surface Treat'].loc[i].append(surface)\n",
    "    \n",
    "    for surface in strong_surfaces:\n",
    "        if surface.lower() in test['Combined'].loc[i].lower() and surface.lower() not in ', '.join(test['Combined Surface Treat'].loc[i]):\n",
    "            test['Combined Surface Treat'].loc[i].append(surface)\n",
    "    try:\n",
    "        test['Combined Surface Treat'].loc[i] = ', '.join(test['Combined Surface Treat'].loc[i])\n",
    "    except:\n",
    "        pass"
   ]
  },
  {
   "cell_type": "code",
   "execution_count": 125,
   "metadata": {},
   "outputs": [],
   "source": [
    "test['Combined Surface Treat'] = test['Combined Surface Treat'].apply(lambda x: np.nan if x==' ' or x=='' else x )"
   ]
  },
  {
   "cell_type": "code",
   "execution_count": 126,
   "metadata": {},
   "outputs": [],
   "source": [
    "test['Surface Treatment'] = test['Oberfläche'].fillna(test['Combined Surface Treat'])"
   ]
  },
  {
   "cell_type": "markdown",
   "metadata": {},
   "source": [
    "### Surface Quality"
   ]
  },
  {
   "cell_type": "code",
   "execution_count": 127,
   "metadata": {},
   "outputs": [],
   "source": [
    "surf_quality = ['NSI', 'SI']"
   ]
  },
  {
   "cell_type": "code",
   "execution_count": 128,
   "metadata": {},
   "outputs": [],
   "source": [
    "test['Surface Quality'] = ''\n",
    "for i in test.index:\n",
    "    test['Surface Quality'].loc[i] = []\n",
    "    for surf_qual in surf_quality:\n",
    "        pat = r' {} |^{} | {}$|[a-z] {}\\;'.format(surf_qual.lower(), surf_qual.lower(), surf_qual.lower(), surf_qual.lower())\n",
    "        if len(re.findall(pat, test['Combined'].loc[i].lower()))>0 and surf_qual.lower() not in ', '.join(test['Surface Quality'].loc[i]):\n",
    "            test['Surface Quality'].loc[i].append(surf_qual)\n",
    "            \n",
    "    try:\n",
    "        test['Surface Quality'].loc[i] = ', '.join(test['Surface Quality'].loc[i])\n",
    "    except:\n",
    "        pass\n",
    "test['Surface Quality'] =  test['Surface Quality'].apply(lambda x: np.nan if x==' ' or x=='' else x )   "
   ]
  },
  {
   "cell_type": "code",
   "execution_count": 129,
   "metadata": {},
   "outputs": [
    {
     "data": {
      "text/plain": [
       "(670, 35)"
      ]
     },
     "execution_count": 129,
     "metadata": {},
     "output_type": "execute_result"
    }
   ],
   "source": [
    "test[~test['Surface Quality'].isna()].shape"
   ]
  },
  {
   "cell_type": "code",
   "execution_count": 130,
   "metadata": {},
   "outputs": [
    {
     "data": {
      "text/plain": [
       "NSI    670\n",
       "Name: Surface Quality, dtype: int64"
      ]
     },
     "execution_count": 130,
     "metadata": {},
     "output_type": "execute_result"
    }
   ],
   "source": [
    "test['Surface Quality'].value_counts()"
   ]
  },
  {
   "cell_type": "markdown",
   "metadata": {},
   "source": [
    "### Drying method"
   ]
  },
  {
   "cell_type": "code",
   "execution_count": 131,
   "metadata": {},
   "outputs": [],
   "source": [
    "dry_method = ['technischer trocknung','technisch getrocknet', 'kammer getrocknet',\n",
    "               'kammertrocken', 'AD (luftgetrocknet)',\n",
    "               'KD (Künstlich getrocknet)']"
   ]
  },
  {
   "cell_type": "code",
   "execution_count": 132,
   "metadata": {},
   "outputs": [],
   "source": [
    "test['Combined Drying Method'] = ''\n",
    "for i in test.index:\n",
    "    test['Combined Drying Method'].loc[i] = []\n",
    "    for method in dry_method:\n",
    "        if method.lower() in test['Combined'].loc[i].lower() and method.lower() not in ', '.join(test['Combined Drying Method'].loc[i]):\n",
    "            test['Combined Drying Method'].loc[i].append(method)\n",
    "        \n",
    "    try:\n",
    "        test['Combined Drying Method'].loc[i] = ', '.join(test['Combined Drying Method'].loc[i])\n",
    "    except:\n",
    "        pass"
   ]
  },
  {
   "cell_type": "code",
   "execution_count": 133,
   "metadata": {},
   "outputs": [],
   "source": [
    "test['Combined Drying Method'] =  test['Combined Drying Method'].apply(lambda x: np.nan if x==' ' or x=='' else x )"
   ]
  },
  {
   "cell_type": "code",
   "execution_count": 134,
   "metadata": {},
   "outputs": [],
   "source": [
    "test['Drying Method'] = test['Holzfeuchte'].fillna(test['Combined Drying Method'])"
   ]
  },
  {
   "cell_type": "markdown",
   "metadata": {},
   "source": [
    "### Keywords"
   ]
  },
  {
   "cell_type": "code",
   "execution_count": 135,
   "metadata": {},
   "outputs": [],
   "source": [
    "from df2gspread import gspread2df as g2d\n",
    "from oauth2client.service_account import ServiceAccountCredentials\n",
    "spreadsheet_key = '1iDGux_PxTPSIkxnljeEhMifJo5jAXDhxOXLB8zlrOKg'\n",
    "scope = ['https://spreadsheets.google.com/feeds'] \n",
    "credentials = ServiceAccountCredentials.from_json_keyfile_name('/Users/macbook/Downloads/gs-credentials.json', scope) \n",
    "keywords = g2d.download(gfile=spreadsheet_key, wks_name = 'Keywords', credentials=credentials, col_names=True, row_names=True)"
   ]
  },
  {
   "cell_type": "code",
   "execution_count": 136,
   "metadata": {},
   "outputs": [],
   "source": [
    "rename_cols = {'Produktart':'Product Type', \n",
    "               'Holztyp':'Wood Type',\n",
    "               'Qualität':'Quality',\n",
    "               'Oberflächenqualität':'Surface Quality',\n",
    "               'Sortierklasse':'Sorting Class',\n",
    "               'Trocknung':'Drying Method'}\n",
    "keywords = keywords.rename(columns=rename_cols)"
   ]
  },
  {
   "cell_type": "code",
   "execution_count": 138,
   "metadata": {},
   "outputs": [],
   "source": [
    "for col in keywords.columns:\n",
    "    keywords[col] = keywords[col].apply(lambda x: np.nan if x == '' or x == ' ' or x== '-777' else x)"
   ]
  },
  {
   "cell_type": "markdown",
   "metadata": {},
   "source": [
    "### Updating Product types"
   ]
  },
  {
   "cell_type": "code",
   "execution_count": 139,
   "metadata": {},
   "outputs": [],
   "source": [
    "test['Product Type'] = np.nan\n",
    "test['Product Type'].loc[0] = ''"
   ]
  },
  {
   "cell_type": "code",
   "execution_count": 140,
   "metadata": {},
   "outputs": [],
   "source": [
    "for i in test.index:\n",
    "    test['Product Type'].loc[i] = []\n",
    "    for key_word in keywords['Product Type'].unique():\n",
    "        if key_word.lower() in test['Combined'].loc[i].lower():\n",
    "            if key_word.lower() == 'brett' and 'Brettschichtholz' in test['Product Type'].loc[i]:\n",
    "                continue\n",
    "            \n",
    "            else:\n",
    "                test['Product Type'].loc[i].append(key_word)\n",
    "    test['Product Type'].loc[i] = ', '.join(test['Product Type'].loc[i])"
   ]
  },
  {
   "cell_type": "code",
   "execution_count": 141,
   "metadata": {},
   "outputs": [],
   "source": [
    "wrong_products = ['Befestigungssysteme', 'Zubehör']"
   ]
  },
  {
   "cell_type": "code",
   "execution_count": 142,
   "metadata": {},
   "outputs": [
    {
     "data": {
      "text/plain": [
       "(10418, 38)"
      ]
     },
     "execution_count": 142,
     "metadata": {},
     "output_type": "execute_result"
    }
   ],
   "source": [
    "test = test[~test['Product Type'].isin(wrong_products)]\n",
    "test.shape"
   ]
  },
  {
   "cell_type": "markdown",
   "metadata": {},
   "source": [
    "### Matching keywords"
   ]
  },
  {
   "cell_type": "code",
   "execution_count": 143,
   "metadata": {},
   "outputs": [],
   "source": [
    "from fuzzywuzzy import fuzz\n",
    "from fuzzywuzzy import process"
   ]
  },
  {
   "cell_type": "code",
   "execution_count": 144,
   "metadata": {},
   "outputs": [],
   "source": [
    "main_cols = ['URL','SKU','Product Type','Wood Type','Surface Treatment',\n",
    "             'Drying Method','Sorting Class','Quality','Combined', 'Surface Quality']"
   ]
  },
  {
   "cell_type": "code",
   "execution_count": 145,
   "metadata": {},
   "outputs": [],
   "source": [
    "test['Matched Keywords'] = np.nan\n",
    "test['Other Keywords'] = np.nan\n",
    "test = test.fillna('-777')\n",
    "keywords = keywords.fillna('-999')"
   ]
  },
  {
   "cell_type": "code",
   "execution_count": 146,
   "metadata": {},
   "outputs": [
    {
     "name": "stdout",
     "output_type": "stream",
     "text": [
      "CPU times: user 2min 46s, sys: 1.73 s, total: 2min 48s\n",
      "Wall time: 3min 10s\n"
     ]
    }
   ],
   "source": [
    "%%time\n",
    "def get_keywords(row):\n",
    "    row['Matched Keywords'] = {}\n",
    "    row['Other Keywords'] = {}\n",
    "    \n",
    "    matched_cols=[]\n",
    "    for col in ['Product Type','Wood Type','Surface Treatment','Surface Quality',\n",
    "                'Drying Method','Sorting Class','Quality']:\n",
    "        \n",
    "        for key_word in keywords[col].unique():\n",
    "            if fuzz.token_set_ratio(str(row[col]).lower(), key_word.lower()) > 90 or key_word.lower() in str(row[col]):\n",
    "                row['Matched Keywords'][row[col]] = key_word\n",
    "                matched_cols.append(col)\n",
    "    \n",
    "    if len(matched_cols)==0:\n",
    "        row['Other Keywords'] = np.nan\n",
    "        row['Matched Keywords'] = np.nan\n",
    "    \n",
    "    for col in ['Product Type','Wood Type','Surface Treatment','Surface Quality',\n",
    "                'Drying Method','Sorting Class','Quality']:\n",
    "        \n",
    "        if col not in matched_cols and len(matched_cols)>0 and row[col]!=-999:\n",
    "            row['Other Keywords'][col] = row[col]\n",
    "    \n",
    "    return row\n",
    "test = test.apply(get_keywords, axis=1)"
   ]
  },
  {
   "cell_type": "code",
   "execution_count": 147,
   "metadata": {},
   "outputs": [
    {
     "data": {
      "text/plain": [
       "Matched Keywords    0.39355\n",
       "Other Keywords      0.39355\n",
       "dtype: float64"
      ]
     },
     "execution_count": 147,
     "metadata": {},
     "output_type": "execute_result"
    }
   ],
   "source": [
    "test[['Matched Keywords','Other Keywords']].isna().sum()/test.shape[0]*100"
   ]
  },
  {
   "cell_type": "markdown",
   "metadata": {},
   "source": [
    "### Cleaning NaNs\n",
    "\n"
   ]
  },
  {
   "cell_type": "code",
   "execution_count": 148,
   "metadata": {},
   "outputs": [],
   "source": [
    "for col in test.columns:\n",
    "    test[col] =  test[col].apply(lambda x: np.nan if x =='' or x == 'nan' or x == ' ' or x == '-777' or x == '-999' else x)"
   ]
  },
  {
   "cell_type": "code",
   "execution_count": 149,
   "metadata": {},
   "outputs": [
    {
     "data": {
      "text/plain": [
       "(41, 40)"
      ]
     },
     "execution_count": 149,
     "metadata": {},
     "output_type": "execute_result"
    }
   ],
   "source": [
    "test[(test['Matched Keywords'].isna())].shape"
   ]
  },
  {
   "cell_type": "code",
   "execution_count": 151,
   "metadata": {},
   "outputs": [
    {
     "data": {
      "text/plain": [
       "(0, 40)"
      ]
     },
     "execution_count": 151,
     "metadata": {},
     "output_type": "execute_result"
    }
   ],
   "source": [
    "test[(test['Matched Keywords'].isna()) & \n",
    "          (test['Wood Type']=='Holz')].shape"
   ]
  },
  {
   "cell_type": "code",
   "execution_count": 153,
   "metadata": {},
   "outputs": [
    {
     "data": {
      "text/plain": [
       "0"
      ]
     },
     "execution_count": 153,
     "metadata": {},
     "output_type": "execute_result"
    }
   ],
   "source": [
    "test[(~test['Matched Keywords'].isna()) #&\n",
    "          ]['Product Type'].nunique()#value_counts()"
   ]
  },
  {
   "cell_type": "markdown",
   "metadata": {},
   "source": [
    "### Pre-cleaning"
   ]
  },
  {
   "cell_type": "code",
   "execution_count": 154,
   "metadata": {},
   "outputs": [],
   "source": [
    "for col in test.columns:\n",
    "    test[col] = test[col].apply(lambda x: np.nan if x == '' or x == ' ' or x=='-999' or x=='-777' or x=='nan'else x)"
   ]
  },
  {
   "cell_type": "markdown",
   "metadata": {},
   "source": [
    "# GS"
   ]
  },
  {
   "cell_type": "code",
   "execution_count": 292,
   "metadata": {},
   "outputs": [],
   "source": [
    "import json\n",
    "import gspread\n",
    "from oauth2client.service_account import ServiceAccountCredentials\n",
    "from df2gspread import df2gspread as d2g\n",
    "scope = ['https://spreadsheets.google.com/feeds'] \n",
    "credentials = ServiceAccountCredentials.from_json_keyfile_name('/Users/macbook/Downloads/gs-credentials.json', scope) \n",
    "gc = gspread.authorize(credentials)\n",
    "spreadsheet_key = '1iDGux_PxTPSIkxnljeEhMifJo5jAXDhxOXLB8zlrOKg'"
   ]
  },
  {
   "cell_type": "code",
   "execution_count": 155,
   "metadata": {},
   "outputs": [],
   "source": [
    "sheets_clean = test.copy()"
   ]
  },
  {
   "cell_type": "code",
   "execution_count": 156,
   "metadata": {},
   "outputs": [
    {
     "data": {
      "text/plain": [
       "(10377, 40)"
      ]
     },
     "execution_count": 156,
     "metadata": {},
     "output_type": "execute_result"
    }
   ],
   "source": [
    "sheets_clean = test[~test['Matched Keywords'].isna()]\n",
    "sheets_clean.shape"
   ]
  },
  {
   "cell_type": "code",
   "execution_count": 298,
   "metadata": {},
   "outputs": [],
   "source": [
    "sheets_clean['Website Name'] = 'www.scs-holzshop.de'"
   ]
  },
  {
   "cell_type": "code",
   "execution_count": 299,
   "metadata": {},
   "outputs": [],
   "source": [
    "ren_cols = {'Title':'Product Title',\n",
    "            'Breite-T1-mm':'Width (mm)',\n",
    "            'Länge-T1-mm':'Length (mm)', \n",
    "            'Stärke-T1-mm':'Thickness (mm)',\n",
    "            'Price':'Price (Euro)'}\n",
    "sheets_clean = sheets_clean.rename(columns = ren_cols)\n",
    "\n",
    "cols = ['Website Name', 'URL','Product Title','Product Type', 'Wood Type', 'Width (mm)', 'Length (mm)', 'Thickness (mm)', \n",
    "        'Price (Euro)','Delivery Yes/No','Quality', 'Surface Treatment','Drying Method', 'Surface Quality',\n",
    "        'Sorting Class','SKU','Delivery Status' ]\n",
    "\n",
    "sheets_clean = sheets_clean[cols].rename(columns = ren_cols)"
   ]
  },
  {
   "cell_type": "code",
   "execution_count": 300,
   "metadata": {},
   "outputs": [],
   "source": [
    "sheets_clean = sheets_clean[~sheets_clean['Product Type'].isin(wrong_products)]"
   ]
  },
  {
   "cell_type": "code",
   "execution_count": 301,
   "metadata": {},
   "outputs": [
    {
     "data": {
      "text/plain": [
       "16.64325842696629"
      ]
     },
     "execution_count": 301,
     "metadata": {},
     "output_type": "execute_result"
    }
   ],
   "source": [
    "sheets_clean[(sheets_clean['Width (mm)'].isna()) &\n",
    "             (sheets_clean['Length (mm)'].isna()) &\n",
    "             (sheets_clean['Thickness (mm)'].isna())].shape[0]/sheets_clean.shape[0]*100"
   ]
  },
  {
   "cell_type": "code",
   "execution_count": 302,
   "metadata": {},
   "outputs": [
    {
     "data": {
      "text/plain": [
       "<Worksheet 'OBI Clean Data' id:667286089>"
      ]
     },
     "execution_count": 302,
     "metadata": {},
     "output_type": "execute_result"
    }
   ],
   "source": [
    "d2g.upload(sheets_clean.fillna('-'),\n",
    "           spreadsheet_key,\n",
    "           'OBI Clean Data',\n",
    "           credentials=credentials,\n",
    "           col_names=True,\n",
    "           row_names=False,\n",
    "           start_cell = 'A1',\n",
    "           clean=True)"
   ]
  },
  {
   "cell_type": "markdown",
   "metadata": {},
   "source": [
    "# *"
   ]
  }
 ],
 "metadata": {
  "kernelspec": {
   "display_name": "Python 3",
   "language": "python",
   "name": "python3"
  },
  "language_info": {
   "codemirror_mode": {
    "name": "ipython",
    "version": 3
   },
   "file_extension": ".py",
   "mimetype": "text/x-python",
   "name": "python",
   "nbconvert_exporter": "python",
   "pygments_lexer": "ipython3",
   "version": "3.7.5"
  }
 },
 "nbformat": 4,
 "nbformat_minor": 4
}
