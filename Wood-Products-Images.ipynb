{
 "cells": [
  {
   "cell_type": "code",
   "execution_count": null,
   "metadata": {},
   "outputs": [],
   "source": [
    "import pandas as pd\n",
    "import numpy as np\n",
    "import warnings\n",
    "warnings.filterwarnings('ignore')\n",
    "import re\n",
    "pd.set_option('display.max_columns', None)\n",
    "pd.set_option('display.max_rows', None)\n",
    "from random import randint\n",
    "from time import sleep\n",
    "\n",
    "from datetime import date\n",
    "from selenium import webdriver\n",
    "from selenium.webdriver.common.keys import Keys\n",
    "from selenium.webdriver.support.ui import WebDriverWait\n",
    "from selenium.webdriver.common.by import By\n",
    "from selenium.webdriver.support import expected_conditions as EC\n",
    "from selenium.webdriver.common.action_chains import ActionChains\n",
    "\n",
    "from df2gspread import gspread2df as g2d\n",
    "from oauth2client.service_account import ServiceAccountCredentials\n",
    "\n",
    "import json\n",
    "import gspread\n",
    "from oauth2client.service_account import ServiceAccountCredentials\n",
    "from df2gspread import df2gspread as d2g\n",
    "scope = ['https://spreadsheets.google.com/feeds']\n",
    "credentials = ServiceAccountCredentials.from_json_keyfile_name('/Users/macbook/Desktop/UpWork/gs-credentials.json', scope) "
   ]
  },
  {
   "cell_type": "markdown",
   "metadata": {},
   "source": [
    "# BetterWood"
   ]
  },
  {
   "cell_type": "markdown",
   "metadata": {},
   "source": [
    "### Products Links"
   ]
  },
  {
   "cell_type": "code",
   "execution_count": null,
   "metadata": {},
   "outputs": [],
   "source": [
    "%%time\n",
    "spreadsheet_key = '1iDGux_PxTPSIkxnljeEhMifJo5jAXDhxOXLB8zlrOKg'\n",
    "data = g2d.download(gfile=spreadsheet_key, wks_name = 'BetterWood', \n",
    "                    credentials=credentials, col_names=True, row_names=True)\n",
    "data.shape"
   ]
  },
  {
   "cell_type": "markdown",
   "metadata": {},
   "source": [
    "### Images"
   ]
  },
  {
   "cell_type": "code",
   "execution_count": null,
   "metadata": {},
   "outputs": [],
   "source": [
    "chrome_options = webdriver.ChromeOptions()\n",
    "chrome_options.headless=False\n",
    "browser =  webdriver.Chrome('/Users/macbook/Downloads/Chrome Driver/chromedriver', chrome_options=chrome_options)"
   ]
  },
  {
   "cell_type": "code",
   "execution_count": null,
   "metadata": {},
   "outputs": [],
   "source": [
    "images_df = pd.DataFrame({'Images':np.nan, 'URL':data['URL'].unique()}, index=range(data['URL'].nunique()))\n",
    "images_df.shape"
   ]
  },
  {
   "cell_type": "code",
   "execution_count": null,
   "metadata": {
    "scrolled": true
   },
   "outputs": [],
   "source": [
    "for idx in images_df.index:\n",
    "    \n",
    "    print('\\n#', idx)\n",
    "\n",
    "    url = images_df['URL'].loc[idx]\n",
    "    browser.get(url)\n",
    "    sleep(1)\n",
    "    \n",
    "    img_urls = []\n",
    "    path = '//*[contains(@class, \"woocommerce-product-gallery\")]/a'\n",
    "    els = browser.find_elements_by_xpath(path)\n",
    "    for el in els:\n",
    "        url = el.get_attribute('href')\n",
    "        if url not in img_urls:\n",
    "            img_urls.append(url)\n",
    "    \n",
    "    print('; '.join(img_urls))\n",
    "    images_df['Images'].loc[idx]= '; '.join(img_urls)"
   ]
  },
  {
   "cell_type": "code",
   "execution_count": null,
   "metadata": {},
   "outputs": [],
   "source": [
    "images_df['Images'] = images_df['Images'].apply(lambda x: np.nan if x=='' else x)\n",
    "data = pd.merge(data, images_df, on='URL', how='left')\n",
    "data.head(2)"
   ]
  },
  {
   "cell_type": "markdown",
   "metadata": {},
   "source": [
    "### Storing to GS"
   ]
  },
  {
   "cell_type": "code",
   "execution_count": null,
   "metadata": {},
   "outputs": [],
   "source": [
    "gc = gspread.authorize(credentials)\n",
    "spreadsheet_key = '1iDGux_PxTPSIkxnljeEhMifJo5jAXDhxOXLB8zlrOKg'\n",
    "def to_gs(data, sheet):\n",
    "    d2g.upload(data.fillna('-'),\n",
    "               spreadsheet_key,\n",
    "               sheet,\n",
    "               credentials=credentials,\n",
    "               col_names=True,\n",
    "               row_names=False,\n",
    "               start_cell = 'A1',\n",
    "               clean=True)\n",
    "to_gs(data, 'BetterWood Test')"
   ]
  },
  {
   "cell_type": "markdown",
   "metadata": {},
   "source": [
    "# Obi"
   ]
  },
  {
   "cell_type": "markdown",
   "metadata": {},
   "source": [
    "### Products Links"
   ]
  },
  {
   "cell_type": "code",
   "execution_count": null,
   "metadata": {},
   "outputs": [],
   "source": [
    "%%time\n",
    "spreadsheet_key = '1iDGux_PxTPSIkxnljeEhMifJo5jAXDhxOXLB8zlrOKg'\n",
    "data = g2d.download(gfile=spreadsheet_key, wks_name = 'OBI Clean Data', \n",
    "                    credentials=credentials, col_names=True, row_names=True)\n",
    "data.shape"
   ]
  },
  {
   "cell_type": "markdown",
   "metadata": {},
   "source": [
    "### Images"
   ]
  },
  {
   "cell_type": "code",
   "execution_count": null,
   "metadata": {},
   "outputs": [],
   "source": [
    "images_df = pd.DataFrame({'Images':np.nan, 'URL':data['URL'].unique()}, index=range(data['URL'].nunique()))\n",
    "images_df.shape"
   ]
  },
  {
   "cell_type": "code",
   "execution_count": null,
   "metadata": {
    "scrolled": true
   },
   "outputs": [],
   "source": [
    "%%time \n",
    "for idx in images_df.index[100:]:\n",
    "    try:\n",
    "        url = images_df['URL'].loc[idx]\n",
    "        browser.get(url)\n",
    "        sleep(0.5)\n",
    "\n",
    "        # How many images in gallery\n",
    "        path = '//*[contains(@class, \"ads-previewslider__item slick-slide\")]/a'\n",
    "        els = browser.find_elements_by_xpath(path)\n",
    "\n",
    "        # Click to expand the image\n",
    "        path = '//*[@class=\"ads-slider__zoom-text\"]'\n",
    "        browser.find_elements_by_xpath(path)[0].click()\n",
    "        sleep(0.3)\n",
    "\n",
    "    except:\n",
    "        continue\n",
    "    \n",
    "    \n",
    "    img_urls = []  \n",
    "    if len(els)>1:\n",
    "\n",
    "        for _ in range(len(els)-1):\n",
    "            # Sliding gallery\n",
    "            try:\n",
    "                path = '//*[contains(@class, \"ads-slider__slick slick-initialized slick-slider\")]/button'\n",
    "                browser.find_elements_by_xpath(path)[1].click()\n",
    "                sleep(0.7)\n",
    "\n",
    "                # Get the image\n",
    "                path = '//*[@class=\"pinch-zoom-container\"]/img'\n",
    "                els = browser.find_elements_by_xpath(path)\n",
    "                for el in els:\n",
    "                    img = el.get_attribute('src')\n",
    "                    if img not in img_urls and 'blind.gif' not in img:\n",
    "                        img_urls.append(img)\n",
    "            except:\n",
    "                pass\n",
    "    else:\n",
    "        try:\n",
    "            # Get the image\n",
    "            path = '//*[@class=\"pinch-zoom-container\"]/img'\n",
    "            els = browser.find_elements_by_xpath(path)\n",
    "            for el in els:\n",
    "                img = el.get_attribute('src')\n",
    "                if img not in img_urls and 'blind.gif' not in img:\n",
    "                    img_urls.append(img)\n",
    "        except:\n",
    "            continue\n",
    "\n",
    "\n",
    "    print('\\n#', idx, '; '.join(img_urls))\n",
    "    images_df['Images'].loc[idx]= '; '.join(img_urls)\n",
    "\n",
    "    if idx%50==0 and idx>0:\n",
    "        sleep(randint(1,10))\n"
   ]
  },
  {
   "cell_type": "code",
   "execution_count": null,
   "metadata": {},
   "outputs": [],
   "source": [
    "images_df.to_csv('OBI-Images.csv')"
   ]
  },
  {
   "cell_type": "code",
   "execution_count": null,
   "metadata": {},
   "outputs": [],
   "source": [
    "images_df['Images'] = images_df['Images'].apply(lambda x: np.nan if x=='' else x)\n",
    "data = pd.merge(data, images_df, on='URL', how='left')\n",
    "data.head(2)"
   ]
  },
  {
   "cell_type": "code",
   "execution_count": null,
   "metadata": {},
   "outputs": [],
   "source": [
    "to_gs(data, 'OBI Test')"
   ]
  },
  {
   "cell_type": "markdown",
   "metadata": {},
   "source": [
    "# SCS"
   ]
  },
  {
   "cell_type": "code",
   "execution_count": null,
   "metadata": {},
   "outputs": [],
   "source": [
    "%%time\n",
    "spreadsheet_key = '1iDGux_PxTPSIkxnljeEhMifJo5jAXDhxOXLB8zlrOKg'\n",
    "data = g2d.download(gfile=spreadsheet_key, wks_name = 'SCS Clean Data', \n",
    "                    credentials=credentials, col_names=True, row_names=True)\n",
    "data.shape"
   ]
  },
  {
   "cell_type": "code",
   "execution_count": null,
   "metadata": {},
   "outputs": [],
   "source": [
    "images_df = pd.DataFrame({'Images':np.nan, 'URL':data['URL'].unique()}, index=range(data['URL'].nunique()))\n",
    "images_df.shape"
   ]
  },
  {
   "cell_type": "code",
   "execution_count": null,
   "metadata": {},
   "outputs": [],
   "source": [
    "url = images_df['URL'].loc[55]\n",
    "browser.get(url)"
   ]
  },
  {
   "cell_type": "code",
   "execution_count": null,
   "metadata": {},
   "outputs": [],
   "source": [
    "%%time\n",
    "for idx in images_df.index:\n",
    "    \n",
    "    try:\n",
    "        url = images_df['URL'].loc[idx]\n",
    "        browser.get(url)\n",
    "        sleep(1.5)\n",
    "    \n",
    "        # Click to expand the image\n",
    "        path = '//*[@class=\"product-view__main-image product-image product-image-zoom\"]'\n",
    "        browser.find_elements_by_xpath(path)[0].click()\n",
    "        sleep(1)\n",
    "\n",
    "        # Get the image\n",
    "        path = '//*[@class=\"mz-figure mz-hover-zoom mz-ready\"]/img'\n",
    "        img = browser.find_elements_by_xpath(path)[0].get_attribute('src')\n",
    "        images_df['Images'].loc[idx]= img\n",
    "        \n",
    "        print('#',idx, url ,img)\n",
    "      \n",
    "    except:\n",
    "        print('ERROR WITH IMAGE')\n",
    "        continue"
   ]
  },
  {
   "cell_type": "code",
   "execution_count": null,
   "metadata": {},
   "outputs": [],
   "source": [
    "images_df['Images'] = images_df['Images'].apply(lambda x: np.nan if x=='' else x)\n",
    "data = pd.merge(data, images_df, on='URL', how='left')\n",
    "data.head(2)"
   ]
  },
  {
   "cell_type": "code",
   "execution_count": null,
   "metadata": {},
   "outputs": [],
   "source": [
    "to_gs(data, 'SCS Test')"
   ]
  },
  {
   "cell_type": "markdown",
   "metadata": {},
   "source": [
    "# Toom"
   ]
  },
  {
   "cell_type": "code",
   "execution_count": null,
   "metadata": {},
   "outputs": [],
   "source": [
    "%%time\n",
    "spreadsheet_key = '1iDGux_PxTPSIkxnljeEhMifJo5jAXDhxOXLB8zlrOKg'\n",
    "data = g2d.download(gfile=spreadsheet_key, wks_name = 'Toom Clean Data', \n",
    "                    credentials=credentials, col_names=True, row_names=True)\n",
    "data.shape"
   ]
  },
  {
   "cell_type": "code",
   "execution_count": null,
   "metadata": {},
   "outputs": [],
   "source": [
    "images_df = pd.DataFrame({'Images':np.nan, 'URL':data['URL'].unique()}, index=range(data['URL'].nunique()))\n",
    "images_df.shape"
   ]
  },
  {
   "cell_type": "code",
   "execution_count": null,
   "metadata": {},
   "outputs": [],
   "source": [
    "%%time\n",
    "for idx in images_df.index[10:]:\n",
    "    \n",
    "    try:\n",
    "        url = images_df['URL'].loc[idx]\n",
    "        browser.get(url)\n",
    "        sleep(0.5)\n",
    "    \n",
    "        # Click to expand the image\n",
    "        path = '//*[@class=\"a-icon a-icon--magnify-plus fullscreen-gallery__zoom-button-icon\"]'\n",
    "        browser.find_elements_by_xpath(path)[0].click()\n",
    "        sleep(0.3)\n",
    "\n",
    "        # Get the image\n",
    "        path = '//*[@class=\"image-gallery-image\"]'\n",
    "        img = browser.find_elements_by_xpath(path)[0].get_attribute('src')\n",
    "        images_df['Images'].loc[idx]= img\n",
    "        \n",
    "        print('#',idx, url ,img)\n",
    "        if idx%50==0 and idx>0:\n",
    "            sleep(randint(1,10))\n",
    "      \n",
    "    except:\n",
    "        print('ERROR WITH IMAGE')\n",
    "        continue"
   ]
  },
  {
   "cell_type": "code",
   "execution_count": null,
   "metadata": {},
   "outputs": [],
   "source": [
    "images_df['Images'] = images_df['Images'].apply(lambda x: np.nan if x=='' else x)\n",
    "data = pd.merge(data, images_df, on='URL', how='left')\n",
    "data.head(2)"
   ]
  },
  {
   "cell_type": "code",
   "execution_count": null,
   "metadata": {},
   "outputs": [],
   "source": []
  }
 ],
 "metadata": {
  "kernelspec": {
   "display_name": "Python 3",
   "language": "python",
   "name": "python3"
  },
  "language_info": {
   "codemirror_mode": {
    "name": "ipython",
    "version": 3
   },
   "file_extension": ".py",
   "mimetype": "text/x-python",
   "name": "python",
   "nbconvert_exporter": "python",
   "pygments_lexer": "ipython3",
   "version": "3.7.5"
  }
 },
 "nbformat": 4,
 "nbformat_minor": 4
}
