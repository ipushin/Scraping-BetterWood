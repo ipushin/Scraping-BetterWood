{
 "cells": [
  {
   "cell_type": "code",
   "execution_count": null,
   "metadata": {},
   "outputs": [],
   "source": [
    "import pandas as pd\n",
    "import numpy as np\n",
    "import warnings\n",
    "warnings.filterwarnings('ignore')\n",
    "import re\n",
    "pd.set_option('display.max_columns', None)\n",
    "pd.set_option('display.max_rows', None)\n",
    "import re\n",
    "import pickle"
   ]
  },
  {
   "cell_type": "code",
   "execution_count": null,
   "metadata": {},
   "outputs": [],
   "source": [
    "with open(<'FILE NAME'>, 'rb') as f:\n",
    "    prod_processed = pickle.load(f)\n",
    "prod_processed = prod_processed.reset_index(drop=True)"
   ]
  },
  {
   "cell_type": "markdown",
   "metadata": {},
   "source": [
    "### Data Processing"
   ]
  },
  {
   "cell_type": "code",
   "execution_count": null,
   "metadata": {},
   "outputs": [],
   "source": [
    "prod_processed = prod_processed.drop_duplicates(keep='first')\n",
    "prod_processed.shape"
   ]
  },
  {
   "cell_type": "code",
   "execution_count": null,
   "metadata": {},
   "outputs": [],
   "source": [
    "first_drop = ['Second_Zertifikat','Second_FSC®-Code','Zertifikat','Bestellung', 'Profil',\n",
    "               'Aufbauhöhe', 'Kunstoffgitter','Maßanfertigung', 'Verschraubung', 'Füße', 'Lamellen', 'Verleimung',\n",
    "               'Zertifiikat', 'Längsseite', 'Second_Holzlamellen', 'Nachhaltigkeit', 'Gesamthöhe','Tiefe', 'Höhe',\n",
    "               'Second_Unterkonstruktion','Stärke Unterkonstruktion', 'Bedarf Verbindungsadapter', 'Handgriffe', 'Detail', \n",
    "                'Variante','Maße','Holzstärke','Längsseiten','Mindestlänge','Innenmaß Sitzfläche', 'Second_Durchmesser', 'Durchmesser',\n",
    "               'Befestigung', 'Gewicht', 'Klappmechanismus', 'Breite Sitzfläche',\n",
    "               'Second_Gewicht', 'Verpackungseinheit', 'Höhe Sitzfläche',\n",
    "               'Höhe Armlehnen', 'Kanten', 'Längsseiten', 'Second_Menge',\n",
    "               'Mindestlängen', 'Mindestlänge','Second_Behandlung', 'Behandlung', 'Verarbeitung', 'Herkunft',\n",
    "               'Länge Element', 'Breite Dielen', 'Breite Element','', 'Second_Marke', 'Second_Oberfläche', 'Second_Qualität', \n",
    "               'Second_Breite', 'Second_Länge', 'Second_Stärke','Menge je KG bei 120mm Breite', 'Menge je kg',\n",
    "               'Menge je KG bei 90mm Breite', 'Holzlamellen', 'Lebensdauer',\n",
    "               'Menge je kg bei 50mm Breite', 'Menge je kg bei 95mm Breite',\n",
    "               'Mögliche Fehler', 'Breite Holzmuster', 'Länge Holzmuster','Produktart']"
   ]
  },
  {
   "cell_type": "code",
   "execution_count": null,
   "metadata": {},
   "outputs": [],
   "source": [
    "prod_processed['Marke'] = prod_processed['Marke'].fillna(prod_processed['Second_Marke'])\n",
    "prod_processed['Oberfläche'] = prod_processed['Oberfläche'].fillna(prod_processed['Second_Oberfläche'])\n",
    "prod_processed['Qualität'] = prod_processed['Qualität'].fillna(prod_processed['Second_Qualität'])\n",
    "prod_processed['Breite'] = prod_processed['Breite'].fillna(prod_processed['Second_Breite']).fillna(prod_processed['Breite Holzmuster'])\n",
    "prod_processed['Länge'] = prod_processed['Länge'].fillna(prod_processed['Second_Länge']).fillna(prod_processed['Länge Holzmuster'])\n",
    "prod_processed['Stärke'] = prod_processed['Stärke'].fillna(prod_processed['Second_Stärke'])\n",
    "prod_processed['Option_Grosse'] = prod_processed['Option_Grosse'].fillna(prod_processed['Maße'])\n",
    "prod_processed['Oberfläche'] = prod_processed['Oberfläche']  + ', ' + prod_processed['Behandlung']"
   ]
  },
  {
   "cell_type": "code",
   "execution_count": null,
   "metadata": {},
   "outputs": [],
   "source": [
    "prod_processed = prod_processed.drop(columns = first_drop).copy()\n",
    "prod_processed.shape"
   ]
  },
  {
   "cell_type": "code",
   "execution_count": null,
   "metadata": {},
   "outputs": [],
   "source": [
    "rename_cols = {'Second_Produktart':'Product Type', \n",
    "               'Second_Holzart':'Sec_Wood_Type',\n",
    "               'Second_Herkunft':'Origin', \n",
    "               'Second_Farbe':'Color',\n",
    "               'Option_Grosse':'Option_Size',\n",
    "               'Second_Größe':'Other Dimensions',\n",
    "               'Holzart':'Wood type',\n",
    "               'Option':'Option_Size',\n",
    "               'Oberfläche_NEW':'Surfase',\n",
    "               'Qualität':'Quality',\n",
    "               'Breite':'Possible Width',\n",
    "               'Länge':'Possible Length',\n",
    "               'Main Header':'Product Title',\n",
    "               'Stärke':'Thickness',\n",
    "               'Trocknung':'Drying Method'}\n",
    "prod_processed = prod_processed.rename(columns=rename_cols)"
   ]
  },
  {
   "cell_type": "code",
   "execution_count": null,
   "metadata": {},
   "outputs": [],
   "source": [
    "(prod_processed.isna().sum()/prod_processed.shape[0]*100).sort_values(ascending=False)"
   ]
  },
  {
   "cell_type": "markdown",
   "metadata": {},
   "source": [
    "### Cleaning data"
   ]
  },
  {
   "cell_type": "code",
   "execution_count": null,
   "metadata": {},
   "outputs": [],
   "source": [
    "clean_cols = ['Product Title', 'Wood type', 'Product Type', 'Surfase','Quality',\n",
    "              'Drying Method', 'Main Delivery','Origin','Color']\n",
    "\n",
    "cols = ['Product Title', 'Wood type', 'Product Type', 'Surfase','Quality','Drying Method',\n",
    "        'Index','Main Price', 'Possible Length','Possible Width','Thickness', 'Other Dimensions', 'Option_Size', \n",
    "        'Option_Width','Option_Length', 'Option_Price', 'Main Delivery','Origin','Color','SKU','URL']"
   ]
  },
  {
   "cell_type": "code",
   "execution_count": null,
   "metadata": {},
   "outputs": [],
   "source": [
    "for col in clean_cols:\n",
    "    prod_processed[col] = prod_processed[col].str.replace(r'\\n|^ | $|Voraussichtliche Lieferung: ','')"
   ]
  },
  {
   "cell_type": "code",
   "execution_count": null,
   "metadata": {},
   "outputs": [],
   "source": [
    "prod_processed['Option_Price'] = prod_processed['Option_Price'].fillna(prod_processed['Main Price'])"
   ]
  },
  {
   "cell_type": "code",
   "execution_count": null,
   "metadata": {
    "scrolled": true
   },
   "outputs": [],
   "source": [
    "prod_processed[(prod_processed['Option_Size'].isna()) & \n",
    "               (prod_processed['Option_Width'].isna()) &\n",
    "               (prod_processed['Option_Length'].isna())][cols].shape"
   ]
  },
  {
   "cell_type": "markdown",
   "metadata": {},
   "source": [
    "### Clean Optional/ Possible Length/Width"
   ]
  },
  {
   "cell_type": "code",
   "execution_count": null,
   "metadata": {},
   "outputs": [],
   "source": [
    "prod_processed['Option_Size_Length'] = prod_processed['Option_Size'].str.split('x', expand=True)[0] + ' cm'\n",
    "prod_processed['Option_Size_Width'] = prod_processed['Option_Size'].str.split('x', expand=True)[1]"
   ]
  },
  {
   "cell_type": "code",
   "execution_count": null,
   "metadata": {},
   "outputs": [],
   "source": [
    "prod_processed['Option_Width'] = prod_processed['Option_Width'].fillna(prod_processed['Option_Size_Width'])\n",
    "prod_processed['Option_Length'] = prod_processed['Option_Length'].fillna(prod_processed['Option_Size_Length'])\n",
    "\n",
    "prod_processed['Option_Width'] = prod_processed['Option_Width'].fillna(prod_processed['Possible Width'])\n",
    "prod_processed['Option_Length'] = prod_processed['Option_Length'].fillna(prod_processed['Possible Length'])"
   ]
  },
  {
   "cell_type": "code",
   "execution_count": null,
   "metadata": {},
   "outputs": [],
   "source": [
    "prod_processed[['Option_Width', 'Option_Length']].isna().sum()"
   ]
  },
  {
   "cell_type": "markdown",
   "metadata": {},
   "source": [
    "#### Unifying Width dimentions"
   ]
  },
  {
   "cell_type": "code",
   "execution_count": null,
   "metadata": {},
   "outputs": [],
   "source": [
    "prod_processed['Option_Width_New'] = prod_processed['Option_Width'].str.split('bis ', expand=True)[1]\n",
    "prod_processed['Option_Width_New'] = prod_processed['Option_Width_New'].fillna(prod_processed['Option_Width'])\n",
    "prod_processed['Option_Width_New'] = prod_processed['Option_Width_New'].fillna(0).astype(str).str.replace(r'\\n|^ | $|ca\\. | \\(\\+\\/\\- 1cm\\)| ','')\n",
    "prod_processed['Option_Width_New'] = prod_processed['Option_Width_New'].str.replace(r'\\,','.')"
   ]
  },
  {
   "cell_type": "code",
   "execution_count": null,
   "metadata": {},
   "outputs": [],
   "source": [
    "prod_processed['Width_Mult'] = np.nan\n",
    "def get_mult(row):\n",
    "\n",
    "    if 'mm' in row['Option_Width_New']:\n",
    "        row['Width_Mult'] = 1\n",
    "    elif 'cm' in row['Option_Width_New']:\n",
    "        row['Width_Mult'] = 10\n",
    "    else:\n",
    "        row['Width_Mult'] = 10\n",
    "    return row\n",
    "\n",
    "prod_processed = prod_processed.apply(get_mult, axis=1)"
   ]
  },
  {
   "cell_type": "code",
   "execution_count": null,
   "metadata": {},
   "outputs": [],
   "source": [
    "prod_processed['Option_Width_Clean'] = prod_processed['Option_Width_New'].str.extract(r'(.+(?=\\w\\w))', expand=True)[0]"
   ]
  },
  {
   "cell_type": "code",
   "execution_count": null,
   "metadata": {},
   "outputs": [],
   "source": [
    "clean_width = prod_processed['Option_Width_New'].str.replace(r'[a-z]+','').astype(float)\n",
    "prod_processed['Option_Width_mm'] = clean_width*prod_processed['Width_Mult'].astype(float)"
   ]
  },
  {
   "cell_type": "markdown",
   "metadata": {},
   "source": [
    "#### Unifying Length dimentions"
   ]
  },
  {
   "cell_type": "code",
   "execution_count": null,
   "metadata": {},
   "outputs": [],
   "source": [
    "prod_processed['Option_Length_New'] = prod_processed['Option_Length'].str.split('bis ', expand=True)[1]\n",
    "prod_processed['Option_Length_New'] = prod_processed['Option_Length_New'].fillna(prod_processed['Option_Length'])\n",
    "prod_processed['Option_Length_New'] = prod_processed['Option_Length_New'].fillna(0).astype(str).str.replace(r'\\n|^ | $|ca\\. | \\(\\+\\/\\- 1cm\\)| ','')\n",
    "prod_processed['Option_Length_New'] = prod_processed['Option_Length_New'].str.replace(r'\\,','.')\n",
    "prod_processed['Option_Length_New'] = prod_processed['Option_Length_New'].str.replace(r'(\\.fallendeLängen|\\.geteilteHolzlamelle|zu)','')"
   ]
  },
  {
   "cell_type": "code",
   "execution_count": null,
   "metadata": {},
   "outputs": [],
   "source": [
    "prod_processed['Length_Mult'] = np.nan\n",
    "def get_mult(row):\n",
    "\n",
    "    if 'mm' in row['Option_Length_New']:\n",
    "        row['Length_Mult'] = 1\n",
    "    elif 'cm' in row['Option_Length_New']:\n",
    "        row['Length_Mult'] = 10\n",
    "    else:\n",
    "        row['Length_Mult'] = 10\n",
    "    return row\n",
    "\n",
    "prod_processed = prod_processed.apply(get_mult, axis=1)"
   ]
  },
  {
   "cell_type": "code",
   "execution_count": null,
   "metadata": {},
   "outputs": [],
   "source": [
    "prod_processed['Option_Length_Clean'] = prod_processed['Option_Length_New'].str.extract(r'(.+(?=\\w\\w))', expand=True)[0]"
   ]
  },
  {
   "cell_type": "code",
   "execution_count": null,
   "metadata": {},
   "outputs": [],
   "source": [
    "clean_length = prod_processed['Option_Length_New'].str.replace(r'[a-z]+','').astype(float)\n",
    "prod_processed['Option_Length_mm'] = clean_length*prod_processed['Length_Mult'].astype(float)"
   ]
  },
  {
   "cell_type": "markdown",
   "metadata": {},
   "source": [
    "### Cleaning Wood type"
   ]
  },
  {
   "cell_type": "code",
   "execution_count": null,
   "metadata": {},
   "outputs": [],
   "source": [
    "prod_processed['Wood type'] = prod_processed['Wood type'].str.replace(r' \\(.+\\)','').str.replace(r'TEak','Teak')"
   ]
  },
  {
   "cell_type": "markdown",
   "metadata": {},
   "source": [
    "### Cleaning Price"
   ]
  },
  {
   "cell_type": "code",
   "execution_count": null,
   "metadata": {},
   "outputs": [],
   "source": [
    "prod_processed['Option_Price'] = prod_processed['Option_Price'].str.replace(r'( €$)','').str.replace(r'(.+(?=€ ))','').str.replace(r'(^€|^ )','')\n",
    "prod_processed['Option_Price'] = prod_processed['Option_Price'].str.replace(r'(\\,)','.')"
   ]
  },
  {
   "cell_type": "code",
   "execution_count": null,
   "metadata": {},
   "outputs": [],
   "source": [
    "prod_processed['Option_Price'] = prod_processed['Option_Price'].apply(lambda x: np.nan if x == ' ' or x == '' else x)\n",
    "prod_processed['Option_Price'] = prod_processed['Option_Price'].astype(float)\n",
    "prod_processed['Option_Price'].isna().sum()"
   ]
  },
  {
   "cell_type": "code",
   "execution_count": null,
   "metadata": {},
   "outputs": [],
   "source": [
    "for col in prod_processed.columns:\n",
    "    prod_processed[col] = prod_processed[col].apply(lambda x: np.nan if x==-999 or x == '' or x == ' ' else x)"
   ]
  },
  {
   "cell_type": "markdown",
   "metadata": {},
   "source": [
    "# To Google Sheets"
   ]
  },
  {
   "cell_type": "code",
   "execution_count": null,
   "metadata": {},
   "outputs": [],
   "source": [
    "import json\n",
    "import gspread\n",
    "from oauth2client.service_account import ServiceAccountCredentials\n",
    "from df2gspread import df2gspread as d2g\n",
    "scope = ['https://spreadsheets.google.com/feeds'] \n",
    "credentials = ServiceAccountCredentials.from_json_keyfile_name('/Users/macbook/Downloads/gs-credentials.json', scope) \n",
    "gc = gspread.authorize(credentials)\n",
    "spreadsheet_key = '1iDGux_PxTPSIkxnljeEhMifJo5jAXDhxOXLB8zlrOKg'"
   ]
  },
  {
   "cell_type": "code",
   "execution_count": null,
   "metadata": {},
   "outputs": [],
   "source": [
    "cols = ['Product Title', 'Wood type', 'Product Type', 'Surfase','Quality','Drying Method','Thickness', \n",
    "        'Option_Width_mm','Option_Length_mm', 'Option_Price', 'Main Delivery','Origin','Color','SKU','URL']"
   ]
  },
  {
   "cell_type": "code",
   "execution_count": null,
   "metadata": {},
   "outputs": [],
   "source": [
    "to_sheets = prod_processed[cols].fillna('-').copy()\n",
    "to_sheets.shape"
   ]
  },
  {
   "cell_type": "code",
   "execution_count": null,
   "metadata": {},
   "outputs": [],
   "source": [
    "to_sheets = to_sheets.rename(columns={'Option_Width_mm':'Width, mm', \n",
    "                                      'Option_Length_mm':'Length, mm',\n",
    "                                      'Option_Price':'Price, EUR'})"
   ]
  },
  {
   "cell_type": "code",
   "execution_count": null,
   "metadata": {},
   "outputs": [],
   "source": [
    "d2g.upload(to_sheets,\n",
    "           spreadsheet_key,\n",
    "           'Products Update',\n",
    "           credentials=credentials,\n",
    "           col_names=True,\n",
    "           row_names=False,\n",
    "           start_cell = 'A1',\n",
    "           clean=True)"
   ]
  }
 ],
 "metadata": {
  "kernelspec": {
   "display_name": "Python 3",
   "language": "python",
   "name": "python3"
  },
  "language_info": {
   "codemirror_mode": {
    "name": "ipython",
    "version": 3
   },
   "file_extension": ".py",
   "mimetype": "text/x-python",
   "name": "python",
   "nbconvert_exporter": "python",
   "pygments_lexer": "ipython3",
   "version": "3.7.5"
  }
 },
 "nbformat": 4,
 "nbformat_minor": 4
}
